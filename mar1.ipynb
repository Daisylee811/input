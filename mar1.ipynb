{
  "nbformat": 4,
  "nbformat_minor": 0,
  "metadata": {
    "colab": {
      "provenance": [],
      "authorship_tag": "ABX9TyNbCB7O5cE999tzoqrV82xO",
      "include_colab_link": true
    },
    "kernelspec": {
      "name": "python3",
      "display_name": "Python 3"
    },
    "language_info": {
      "name": "python"
    }
  },
  "cells": [
    {
      "cell_type": "markdown",
      "metadata": {
        "id": "view-in-github",
        "colab_type": "text"
      },
      "source": [
        "<a href=\"https://colab.research.google.com/github/Daisylee811/input/blob/main/mar1.ipynb\" target=\"_parent\"><img src=\"https://colab.research.google.com/assets/colab-badge.svg\" alt=\"Open In Colab\"/></a>"
      ]
    },
    {
      "cell_type": "markdown",
      "source": [
        "# this is a title\n",
        "I am going to make a list:\n",
        "- list item 1\n",
        "- list item 2\n",
        "- list item 3\n",
        "\n",
        "two  \n",
        "three"
      ],
      "metadata": {
        "id": "Omv1oiry5DDh"
      }
    },
    {
      "cell_type": "markdown",
      "source": [
        "# Heading 1\n",
        "## Heading 2\n",
        "**double asterisks**  \n",
        "*hello world*  \n",
        "[hello](#text-cells)\n",
        "\n"
      ],
      "metadata": {
        "id": "ucXlY5Jl6Vo2"
      }
    },
    {
      "cell_type": "code",
      "source": [],
      "metadata": {
        "id": "ThHogOc07lUp"
      },
      "execution_count": null,
      "outputs": []
    }
  ]
}